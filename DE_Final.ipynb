{
 "cells": [
  {
   "cell_type": "markdown",
   "metadata": {},
   "source": [
    "Overview: For data to be used properly for research purposes or for gaining insights about a certain topic, the collected data has to go through a number of stages before being able to use this data efficiently. First, the collected data has to be \"cleaned\" by removing any useless or misleading data entries that may have a negative impact on the outcome of the process, then data goes through the analysis process where visual and statistical aids are used to understand what the data actually means and finally conclusions and predictions are based based on the analysis' stage findings. For exploring those stages, \"The Android App Market on Google Play\" dataset was used, since it is a rich, continously-growing, highly verstaile market where data analysis can reveal numerous trends and patterns."
   ]
  },
  {
   "cell_type": "markdown",
   "metadata": {},
   "source": [
    "Initial Questions: When it comes to mobile applications, the number of installs for an application can clearly reflect how successful the application is. Another measure can be the rating of an application, reflecting users' satisfaction with the application. So the main question here would be: how does an application's attributes (such as size, genre, type and other attributes) affect its total installs and its rating. "
   ]
  },
  {
   "cell_type": "markdown",
   "metadata": {},
   "source": [
    "Data: Here two datasets were used. The first one \"apps.csv\" provides the main features of each application such as size, rating and number of installs. The second one \"user_reviews.csv\" contains reviews for each application and measures that reflect users' satisfaction with the application based on their reviews such as sentiment subjectivity and polarity. Both datasets were acquired through \"Kaggle\". For the cleaning stage, each of the following procedures was carried out:"
   ]
  },
  {
   "cell_type": "markdown",
   "metadata": {},
   "source": [
    "1-Data Cleaning: "
   ]
  },
  {
   "cell_type": "code",
   "execution_count": 1,
   "metadata": {},
   "outputs": [],
   "source": [
    "##### First Dataset: \n",
    "import pandas as pd\n",
    "import numpy as np \n",
    "import matplotlib.pyplot as plt\n",
    "df = pd.read_csv(\"E:/Semester9/DE/googleplaystore.csv\")"
   ]
  },
  {
   "cell_type": "code",
   "execution_count": 2,
   "metadata": {},
   "outputs": [],
   "source": [
    "### Dropping duplicates: \n",
    "df.drop_duplicates(subset=None, keep='first', inplace=True)"
   ]
  },
  {
   "cell_type": "code",
   "execution_count": 3,
   "metadata": {},
   "outputs": [
    {
     "data": {
      "text/plain": [
       "App                  0\n",
       "Category             0\n",
       "Rating            1465\n",
       "Reviews              0\n",
       "Size                 0\n",
       "Installs             0\n",
       "Type                 1\n",
       "Price                0\n",
       "Content Rating       1\n",
       "Genres               0\n",
       "Last Updated         0\n",
       "Current Ver          8\n",
       "Android Ver          3\n",
       "dtype: int64"
      ]
     },
     "execution_count": 3,
     "metadata": {},
     "output_type": "execute_result"
    }
   ],
   "source": [
    "### Checking for null values in each column: \n",
    "df.isnull().sum()"
   ]
  },
  {
   "cell_type": "code",
   "execution_count": 4,
   "metadata": {},
   "outputs": [
    {
     "data": {
      "text/plain": [
       "array(['Free', 'Paid', nan, '0'], dtype=object)"
      ]
     },
     "execution_count": 4,
     "metadata": {},
     "output_type": "execute_result"
    }
   ],
   "source": [
    "#### Checking \"Type\" column different values to fill its only null value\n",
    "df.Type.unique()"
   ]
  },
  {
   "cell_type": "code",
   "execution_count": 5,
   "metadata": {},
   "outputs": [],
   "source": [
    "### After inspecting the entry where \"Type\" is equal to 0, which is obviuosly an invalid value, those alterations were made: \n",
    "df.loc[df.Type=='0', ['Category', 'Rating', 'Reviews', 'Size', 'Installs', 'Type', 'Price', 'Content Rating', 'Genres',\n",
    "                     'Last Updated', 'Current Ver', 'Android Ver']] = [np.NaN, 1.9, '19', '3.0M', '1,000+', 'Free', '0', \n",
    "                                                                      'Everyone', np.NaN, 'February 11, 2018', '1.0.19', '4.0 and up']"
   ]
  },
  {
   "cell_type": "code",
   "execution_count": 6,
   "metadata": {},
   "outputs": [],
   "source": [
    "df.loc[df.Category.isnull(), ['Category','Genres']] = 'Lifestyle'"
   ]
  },
  {
   "cell_type": "code",
   "execution_count": 7,
   "metadata": {},
   "outputs": [
    {
     "data": {
      "text/plain": [
       "App                  0\n",
       "Category             0\n",
       "Rating            1465\n",
       "Reviews              0\n",
       "Size                 0\n",
       "Installs             0\n",
       "Type                 1\n",
       "Price                0\n",
       "Content Rating       0\n",
       "Genres               0\n",
       "Last Updated         0\n",
       "Current Ver          8\n",
       "Android Ver          2\n",
       "dtype: int64"
      ]
     },
     "execution_count": 7,
     "metadata": {},
     "output_type": "execute_result"
    }
   ],
   "source": [
    "### Checking for null values again\n",
    "df.isnull().sum()"
   ]
  },
  {
   "cell_type": "code",
   "execution_count": 8,
   "metadata": {},
   "outputs": [
    {
     "data": {
      "text/html": [
       "<div>\n",
       "<style scoped>\n",
       "    .dataframe tbody tr th:only-of-type {\n",
       "        vertical-align: middle;\n",
       "    }\n",
       "\n",
       "    .dataframe tbody tr th {\n",
       "        vertical-align: top;\n",
       "    }\n",
       "\n",
       "    .dataframe thead th {\n",
       "        text-align: right;\n",
       "    }\n",
       "</style>\n",
       "<table border=\"1\" class=\"dataframe\">\n",
       "  <thead>\n",
       "    <tr style=\"text-align: right;\">\n",
       "      <th></th>\n",
       "      <th>App</th>\n",
       "      <th>Category</th>\n",
       "      <th>Rating</th>\n",
       "      <th>Reviews</th>\n",
       "      <th>Size</th>\n",
       "      <th>Installs</th>\n",
       "      <th>Type</th>\n",
       "      <th>Price</th>\n",
       "      <th>Content Rating</th>\n",
       "      <th>Genres</th>\n",
       "      <th>Last Updated</th>\n",
       "      <th>Current Ver</th>\n",
       "      <th>Android Ver</th>\n",
       "    </tr>\n",
       "  </thead>\n",
       "  <tbody>\n",
       "    <tr>\n",
       "      <th>9148</th>\n",
       "      <td>Command &amp; Conquer: Rivals</td>\n",
       "      <td>FAMILY</td>\n",
       "      <td>NaN</td>\n",
       "      <td>0</td>\n",
       "      <td>Varies with device</td>\n",
       "      <td>0</td>\n",
       "      <td>NaN</td>\n",
       "      <td>0</td>\n",
       "      <td>Everyone 10+</td>\n",
       "      <td>Strategy</td>\n",
       "      <td>June 28, 2018</td>\n",
       "      <td>Varies with device</td>\n",
       "      <td>Varies with device</td>\n",
       "    </tr>\n",
       "  </tbody>\n",
       "</table>\n",
       "</div>"
      ],
      "text/plain": [
       "                            App Category  Rating Reviews                Size  \\\n",
       "9148  Command & Conquer: Rivals   FAMILY     NaN       0  Varies with device   \n",
       "\n",
       "     Installs Type Price Content Rating    Genres   Last Updated  \\\n",
       "9148        0  NaN     0   Everyone 10+  Strategy  June 28, 2018   \n",
       "\n",
       "             Current Ver         Android Ver  \n",
       "9148  Varies with device  Varies with device  "
      ]
     },
     "execution_count": 8,
     "metadata": {},
     "output_type": "execute_result"
    }
   ],
   "source": [
    "#Checking the entry where \"Type\" column is null \n",
    "df.loc[df.Type.isnull()]"
   ]
  },
  {
   "cell_type": "code",
   "execution_count": 9,
   "metadata": {},
   "outputs": [],
   "source": [
    "#Since most of the columns values are not availble for this entry, we decide to drop it \n",
    "df=df[df.Installs != '0']"
   ]
  },
  {
   "cell_type": "code",
   "execution_count": 10,
   "metadata": {},
   "outputs": [
    {
     "data": {
      "text/plain": [
       "App                  0\n",
       "Category             0\n",
       "Rating            1464\n",
       "Reviews              0\n",
       "Size                 0\n",
       "Installs             0\n",
       "Type                 0\n",
       "Price                0\n",
       "Content Rating       0\n",
       "Genres               0\n",
       "Last Updated         0\n",
       "Current Ver          8\n",
       "Android Ver          2\n",
       "dtype: int64"
      ]
     },
     "execution_count": 10,
     "metadata": {},
     "output_type": "execute_result"
    }
   ],
   "source": [
    "### Checking for null values again\n",
    "df.isnull().sum()"
   ]
  },
  {
   "cell_type": "code",
   "execution_count": 11,
   "metadata": {},
   "outputs": [],
   "source": [
    "#Dropping entries where all column values are null \n",
    "df.dropna(axis=0, how='all', inplace=True)"
   ]
  },
  {
   "cell_type": "code",
   "execution_count": 15,
   "metadata": {},
   "outputs": [],
   "source": [
    "# Dropping entries where the name of the application is not available\n",
    "df = df.dropna(axis=0, subset=['App'])"
   ]
  },
  {
   "cell_type": "code",
   "execution_count": 12,
   "metadata": {},
   "outputs": [
    {
     "data": {
      "text/plain": [
       "App                  0\n",
       "Category             0\n",
       "Rating            1464\n",
       "Reviews              0\n",
       "Size                 0\n",
       "Installs             0\n",
       "Type                 0\n",
       "Price                0\n",
       "Content Rating       0\n",
       "Genres               0\n",
       "Last Updated         0\n",
       "Current Ver          8\n",
       "Android Ver          2\n",
       "dtype: int64"
      ]
     },
     "execution_count": 12,
     "metadata": {},
     "output_type": "execute_result"
    }
   ],
   "source": [
    "### Checking for null values again\n",
    "df.isnull().sum()"
   ]
  },
  {
   "cell_type": "code",
   "execution_count": 13,
   "metadata": {},
   "outputs": [],
   "source": [
    "#To fill null values for \"Rating\" column, we decided to group the applications which have the same name assuming they would\n",
    "#have a similar rating and fill the null values with the mean of those applications' ratings\n",
    "df.Rating = df.groupby('App')['Rating'].apply(lambda x: x.fillna(x.mean()))"
   ]
  },
  {
   "cell_type": "code",
   "execution_count": 14,
   "metadata": {},
   "outputs": [
    {
     "data": {
      "text/plain": [
       "App                  0\n",
       "Category             0\n",
       "Rating            1463\n",
       "Reviews              0\n",
       "Size                 0\n",
       "Installs             0\n",
       "Type                 0\n",
       "Price                0\n",
       "Content Rating       0\n",
       "Genres               0\n",
       "Last Updated         0\n",
       "Current Ver          8\n",
       "Android Ver          2\n",
       "dtype: int64"
      ]
     },
     "execution_count": 14,
     "metadata": {},
     "output_type": "execute_result"
    }
   ],
   "source": [
    "### Checking for null values again\n",
    "df.isnull().sum()"
   ]
  },
  {
   "cell_type": "code",
   "execution_count": 16,
   "metadata": {},
   "outputs": [
    {
     "data": {
      "text/plain": [
       "App                object\n",
       "Category           object\n",
       "Rating            float64\n",
       "Reviews            object\n",
       "Size               object\n",
       "Installs           object\n",
       "Type               object\n",
       "Price              object\n",
       "Content Rating     object\n",
       "Genres             object\n",
       "Last Updated       object\n",
       "Current Ver        object\n",
       "Android Ver        object\n",
       "dtype: object"
      ]
     },
     "execution_count": 16,
     "metadata": {},
     "output_type": "execute_result"
    }
   ],
   "source": [
    "#Checking the data type of each column \n",
    "df.dtypes"
   ]
  },
  {
   "cell_type": "code",
   "execution_count": 17,
   "metadata": {},
   "outputs": [],
   "source": [
    "#As we can see, the columns \"Reviews\", \"Size\", \"Installs\" and \"Price\" should have a numeric data type, which is not the \n",
    "#case here \n",
    "df.Price = df.Price.str.replace('$','')"
   ]
  },
  {
   "cell_type": "code",
   "execution_count": 18,
   "metadata": {},
   "outputs": [],
   "source": [
    "df.Price = df.Price.astype('float64')"
   ]
  },
  {
   "cell_type": "code",
   "execution_count": 19,
   "metadata": {},
   "outputs": [],
   "source": [
    "df.Installs = df.Installs.str.replace('+','')"
   ]
  },
  {
   "cell_type": "code",
   "execution_count": 20,
   "metadata": {},
   "outputs": [],
   "source": [
    "df.Installs = df.Installs.str.replace(',','')"
   ]
  },
  {
   "cell_type": "code",
   "execution_count": 21,
   "metadata": {},
   "outputs": [],
   "source": [
    "df.Installs = df.Installs.astype('int64')"
   ]
  },
  {
   "cell_type": "code",
   "execution_count": 22,
   "metadata": {},
   "outputs": [],
   "source": [
    "df.Reviews = df.Reviews.astype('int64')"
   ]
  },
  {
   "cell_type": "code",
   "execution_count": 23,
   "metadata": {},
   "outputs": [
    {
     "data": {
      "text/plain": [
       "App                object\n",
       "Category           object\n",
       "Rating            float64\n",
       "Reviews             int64\n",
       "Size               object\n",
       "Installs            int64\n",
       "Type               object\n",
       "Price             float64\n",
       "Content Rating     object\n",
       "Genres             object\n",
       "Last Updated       object\n",
       "Current Ver        object\n",
       "Android Ver        object\n",
       "dtype: object"
      ]
     },
     "execution_count": 23,
     "metadata": {},
     "output_type": "execute_result"
    }
   ],
   "source": [
    "df.dtypes"
   ]
  },
  {
   "cell_type": "code",
   "execution_count": null,
   "metadata": {},
   "outputs": [],
   "source": [
    "#Only the \"size\" column was not converted to a numeric data type because some applications' sizes are in Megabytes and others\n",
    "#are in Kilobytes, so we had to adjust them manually using Excel "
   ]
  },
  {
   "cell_type": "code",
   "execution_count": 24,
   "metadata": {},
   "outputs": [],
   "source": [
    "#Exporting the dataset after making the previuos modifications \n",
    "df.to_csv ('E:/Semester9/DE/output1.csv', index = None, header=True)"
   ]
  },
  {
   "cell_type": "markdown",
   "metadata": {},
   "source": [
    "Here we updated the output dataset by adding 3 new columns, which are \"size\" which is the numeric value included in the original \"Size\" column, \"multiple\" which is the value to be multiplied by the numeric value in order to calculate the size of the application in bytes and finally, \"Size_modified\" which is the actual size of the application in bytes. For applications whose size varies with the device, we equated the size to 0 for now to be filled with the average size of an application later on. "
   ]
  },
  {
   "cell_type": "code",
   "execution_count": 25,
   "metadata": {},
   "outputs": [],
   "source": [
    "#Reimporting the dataset \n",
    "df = pd.read_csv(\"E:/Semester9/DE/output1.csv\")"
   ]
  },
  {
   "cell_type": "code",
   "execution_count": 26,
   "metadata": {},
   "outputs": [
    {
     "data": {
      "text/plain": [
       "size               object\n",
       "multiple            int64\n",
       "Size_modified       int64\n",
       "App                object\n",
       "Category           object\n",
       "Rating            float64\n",
       "Reviews             int64\n",
       "Size               object\n",
       "Installs            int64\n",
       "Type               object\n",
       "Price             float64\n",
       "Content Rating     object\n",
       "Genres             object\n",
       "Last Updated       object\n",
       "Current Ver        object\n",
       "Android Ver        object\n",
       "dtype: object"
      ]
     },
     "execution_count": 26,
     "metadata": {},
     "output_type": "execute_result"
    }
   ],
   "source": [
    "df.dtypes"
   ]
  },
  {
   "cell_type": "code",
   "execution_count": null,
   "metadata": {},
   "outputs": [],
   "source": [
    "#As we can see, the \"Size_modified\" column is of a numeric data type now\n",
    "#Dropping the unneeded columns "
   ]
  },
  {
   "cell_type": "code",
   "execution_count": 27,
   "metadata": {},
   "outputs": [],
   "source": [
    "df.drop(columns=['size','multiple'], inplace=True)"
   ]
  },
  {
   "cell_type": "markdown",
   "metadata": {},
   "source": [
    "For the remaining null values in the applications' ratings, we first tried filling them manually using the \"Google PlayStore\" website and searching for each application's ratings. But since more than a thousand ratings are missing, we could not do so for all the missing values, so we used the average application's rating to fill the remaining missing values. "
   ]
  },
  {
   "cell_type": "code",
   "execution_count": 31,
   "metadata": {},
   "outputs": [],
   "source": [
    "df[['Rating']] = df[['Rating']].fillna(df.Rating.mean())"
   ]
  },
  {
   "cell_type": "code",
   "execution_count": 32,
   "metadata": {},
   "outputs": [],
   "source": [
    "df.loc[df.Size_modified == 0, 'Size_modified'] = df.Size_modified.mean()"
   ]
  },
  {
   "cell_type": "code",
   "execution_count": 34,
   "metadata": {},
   "outputs": [
    {
     "data": {
      "text/plain": [
       "Size_modified     0\n",
       "App               0\n",
       "Category          0\n",
       "Rating            0\n",
       "Reviews           0\n",
       "Size              0\n",
       "Installs          0\n",
       "Type              0\n",
       "Price             0\n",
       "Content Rating    0\n",
       "Genres            0\n",
       "Last Updated      0\n",
       "Current Ver       8\n",
       "Android Ver       2\n",
       "dtype: int64"
      ]
     },
     "execution_count": 34,
     "metadata": {},
     "output_type": "execute_result"
    }
   ],
   "source": [
    "#As we can see, the number of nulls for applications' Ratings is now 0. \n",
    "df.isnull().sum()"
   ]
  },
  {
   "cell_type": "code",
   "execution_count": 35,
   "metadata": {},
   "outputs": [],
   "source": [
    "#Exporting the finalized cleaned data \n",
    "df.to_csv ('E:/Semester9/DE/cleaned_data.csv', index = None, header=True)"
   ]
  },
  {
   "cell_type": "markdown",
   "metadata": {},
   "source": [
    "2-Exploratory Analysis"
   ]
  },
  {
   "cell_type": "markdown",
   "metadata": {},
   "source": [
    "First we explore how each attribute affects the number of installs for an application."
   ]
  },
  {
   "cell_type": "markdown",
   "metadata": {},
   "source": [
    "-Since the application's rating, price, size and number of reviews are expressed as numeric values, we had to divide them into\n",
    "labels to be able to use those attributes to plot a \"bar chart\" graph against the number of installs.  \n",
    "-Other non-numeric attributes such as \"Type\", \"Genre\" and \"Content Rating\" can be used directly. "
   ]
  },
  {
   "cell_type": "code",
   "execution_count": 36,
   "metadata": {},
   "outputs": [],
   "source": [
    "#Rating\n",
    "cut_labels = ['1-2', '2-3', '3-4', '4-5']\n",
    "cut_bins = [0.9,2,3,4,5]\n",
    "df['Rating_labels'] = pd.cut(df['Rating'], bins=cut_bins, labels=cut_labels)"
   ]
  },
  {
   "cell_type": "code",
   "execution_count": 40,
   "metadata": {},
   "outputs": [
    {
     "data": {
      "text/plain": [
       "<BarContainer object of 4 artists>"
      ]
     },
     "execution_count": 40,
     "metadata": {},
     "output_type": "execute_result"
    },
    {
     "data": {
      "image/png": "[encoded data removed]",
      "text/plain": [
       "<Figure size 432x288 with 1 Axes>"
      ]
     },
     "metadata": {
      "needs_background": "light"
     },
     "output_type": "display_data"
    }
   ],
   "source": [
    "x= df.groupby('Rating_labels')['Installs'].sum()\n",
    "plt.bar(x.index,x)"
   ]
  },
  {
   "cell_type": "code",
   "execution_count": 41,
   "metadata": {},
   "outputs": [],
   "source": [
    "#Reviews\n",
    "cut_labels = ['0-1000', '1000-10000', '10000-100000', '100000-1000000', '1000000+']\n",
    "cut_bins = [-1,1000,10000,100000,1000000,80000000]\n",
    "df['Reviews_labels'] = pd.cut(df['Reviews'], bins=cut_bins, labels=cut_labels)"
   ]
  },
  {
   "cell_type": "code",
   "execution_count": 42,
   "metadata": {},
   "outputs": [
    {
     "data": {
      "text/plain": [
       "<BarContainer object of 5 artists>"
      ]
     },
     "execution_count": 42,
     "metadata": {},
     "output_type": "execute_result"
    },
    {
     "data": {
      "image/png": "[encoded data removed]",
      "text/plain": [
       "<Figure size 720x360 with 1 Axes>"
      ]
     },
     "metadata": {
      "needs_background": "light"
     },
     "output_type": "display_data"
    }
   ],
   "source": [
    "x= df.groupby('Reviews_labels')['Installs'].sum()\n",
    "plt.subplots(figsize=(10,5))\n",
    "plt.bar(x.index,x)"
   ]
  },
  {
   "cell_type": "code",
   "execution_count": 43,
   "metadata": {},
   "outputs": [],
   "source": [
    "#Price\n",
    "cut_labels = ['0-100', '100-200', '200-300', '300-400']\n",
    "cut_bins = [-1,100,200,300,400]\n",
    "df['Price_labels'] = pd.cut(df['Price'], bins=cut_bins, labels=cut_labels)"
   ]
  },
  {
   "cell_type": "code",
   "execution_count": 44,
   "metadata": {},
   "outputs": [
    {
     "data": {
      "text/plain": [
       "<BarContainer object of 4 artists>"
      ]
     },
     "execution_count": 44,
     "metadata": {},
     "output_type": "execute_result"
    },
    {
     "data": {
      "image/png": "[encoded data removed]",
      "text/plain": [
       "<Figure size 432x288 with 1 Axes>"
      ]
     },
     "metadata": {
      "needs_background": "light"
     },
     "output_type": "display_data"
    }
   ],
   "source": [
    "x= df.groupby('Price_labels')['Installs'].sum()\n",
    "plt.bar(x.index,x)"
   ]
  },
  {
   "cell_type": "code",
   "execution_count": 45,
   "metadata": {},
   "outputs": [
    {
     "data": {
      "text/plain": [
       "<BarContainer object of 2 artists>"
      ]
     },
     "execution_count": 45,
     "metadata": {},
     "output_type": "execute_result"
    },
    {
     "data": {
      "image/png": "[encoded data removed]",
      "text/plain": [
       "<Figure size 720x360 with 1 Axes>"
      ]
     },
     "metadata": {
      "needs_background": "light"
     },
     "output_type": "display_data"
    }
   ],
   "source": [
    "#Type\n",
    "x= df.groupby('Type')['Installs'].sum()\n",
    "plt.subplots(figsize=(10,5))\n",
    "plt.bar(x.index,x)"
   ]
  },
  {
   "cell_type": "code",
   "execution_count": 46,
   "metadata": {},
   "outputs": [
    {
     "data": {
      "text/plain": [
       "<BarContainer object of 119 artists>"
      ]
     },
     "execution_count": 46,
     "metadata": {},
     "output_type": "execute_result"
    },
    {
     "data": {
      "image/png": "[encoded data removed]",
      "text/plain": [
       "<Figure size 3600x360 with 1 Axes>"
      ]
     },
     "metadata": {
      "needs_background": "light"
     },
     "output_type": "display_data"
    }
   ],
   "source": [
    "#Genre\n",
    "x= df.groupby('Genres')['Installs'].sum()\n",
    "plt.subplots(figsize=(50,5))\n",
    "plt.bar(x.index,x)"
   ]
  },
  {
   "cell_type": "code",
   "execution_count": 48,
   "metadata": {},
   "outputs": [
    {
     "data": {
      "text/plain": [
       "Genres\n",
       "Communication                          24152276251\n",
       "Social                                 12513867902\n",
       "Productivity                           12463091369\n",
       "Tools                                  11442771915\n",
       "Photography                             9721247655\n",
       "Arcade                                  9717129155\n",
       "Casual                                  8662830740\n",
       "Action                                  8336039190\n",
       "Travel & Local                          6361787146\n",
       "Video Players & Editors                 6207002720\n",
       "News & Magazines                        5393217760\n",
       "Entertainment                           4680714684\n",
       "Shopping                                2573348785\n",
       "Sports                                  2544574498\n",
       "Personalization                         2074494782\n",
       "Racing                                  2000247320\n",
       "Books & Reference                       1916469576\n",
       "Strategy                                1774187605\n",
       "Puzzle                                  1552476811\n",
       "Health & Fitness                        1361022512\n",
       "Adventure;Action & Adventure             906150000\n",
       "Business                                 863664865\n",
       "Finance                                  770348734\n",
       "Simulation                               764597820\n",
       "Maps & Navigation                        724281890\n",
       "Education;Education                      567813560\n",
       "Lifestyle                                524824539\n",
       "Weather                                  426100520\n",
       "Adventure                                406695320\n",
       "Casual;Action & Adventure                385001000\n",
       "                                          ...     \n",
       "Parenting;Education                        3170000\n",
       "Art & Design;Creativity                    2210000\n",
       "Simulation;Pretend Play                    2110000\n",
       "Casual;Education                           2010000\n",
       "Puzzle;Creativity                          1500000\n",
       "Strategy;Action & Adventure                1100000\n",
       "Racing;Pretend Play                        1000000\n",
       "Entertainment;Education                    1000000\n",
       "Arcade;Pretend Play                        1000000\n",
       "Strategy;Creativity                        1000000\n",
       "Art & Design;Pretend Play                  1000000\n",
       "Parenting;Brain Games                      1000000\n",
       "Health & Fitness;Action & Adventure        1000000\n",
       "Simulation;Education                        600500\n",
       "Music & Audio;Music & Video                 500000\n",
       "Communication;Creativity                    500000\n",
       "Strategy;Education                          500000\n",
       "Art & Design;Action & Adventure             200000\n",
       "Travel & Local;Action & Adventure           100000\n",
       "Puzzle;Education                            100000\n",
       "Card;Brain Games                            100000\n",
       "Adventure;Brain Games                       100000\n",
       "Health & Fitness;Education                  100000\n",
       "Lifestyle;Education                         100000\n",
       "Comics;Creativity                            50000\n",
       "Books & Reference;Education                  11000\n",
       "Board;Pretend Play                             100\n",
       "Books & Reference;Creativity                   100\n",
       "Trivia;Education                               100\n",
       "Role Playing;Education                         100\n",
       "Name: Installs, Length: 119, dtype: int64"
      ]
     },
     "execution_count": 48,
     "metadata": {},
     "output_type": "execute_result"
    }
   ],
   "source": [
    "#Since the \"Genre\" column has many unique values, the bar chart here is not a wise choice for visual representation.\n",
    "#Instead we use a statistical method, which is the sum of the number of installs for each genre. \n",
    "x= df.groupby('Genres')['Installs'].sum()\n",
    "x.sort_values(ascending=False)"
   ]
  },
  {
   "cell_type": "code",
   "execution_count": 49,
   "metadata": {},
   "outputs": [
    {
     "data": {
      "text/plain": [
       "<BarContainer object of 6 artists>"
      ]
     },
     "execution_count": 49,
     "metadata": {},
     "output_type": "execute_result"
    },
    {
     "data": {
      "image/png": "[encoded data removed]",
      "text/plain": [
       "<Figure size 1440x360 with 1 Axes>"
      ]
     },
     "metadata": {
      "needs_background": "light"
     },
     "output_type": "display_data"
    }
   ],
   "source": [
    "#Content Rating\n",
    "x= df.groupby('Content Rating')['Installs'].sum()\n",
    "plt.subplots(figsize=(20,5))\n",
    "plt.bar(x.index,x)"
   ]
  },
  {
   "cell_type": "markdown",
   "metadata": {},
   "source": [
    "Next we explore how each attribute affects the rating of an application."
   ]
  },
  {
   "cell_type": "code",
   "execution_count": 52,
   "metadata": {},
   "outputs": [
    {
     "data": {
      "text/plain": [
       "<BarContainer object of 10357 artists>"
      ]
     },
     "execution_count": 52,
     "metadata": {},
     "output_type": "execute_result"
    },
    {
     "data": {
      "image/png": "[encoded data removed]",
      "text/plain": [
       "<Figure size 1440x360 with 1 Axes>"
      ]
     },
     "metadata": {
      "needs_background": "light"
     },
     "output_type": "display_data"
    }
   ],
   "source": [
    "#Content Rating \n",
    "plt.subplots(figsize=(20,5))\n",
    "plt.bar(df['Content Rating'],df.Rating)"
   ]
  },
  {
   "cell_type": "code",
   "execution_count": 53,
   "metadata": {},
   "outputs": [
    {
     "data": {
      "text/plain": [
       "Genres\n",
       "Comics;Creativity                        4.800000\n",
       "Board;Pretend Play                       4.800000\n",
       "Health & Fitness;Education               4.700000\n",
       "Strategy;Action & Adventure              4.600000\n",
       "Puzzle;Education                         4.600000\n",
       "Adventure;Brain Games                    4.600000\n",
       "Entertainment;Creativity                 4.533333\n",
       "Music;Music & Video                      4.533333\n",
       "Strategy;Education                       4.500000\n",
       "Racing;Pretend Play                      4.500000\n",
       "Tools;Education                          4.500000\n",
       "Arcade;Pretend Play                      4.500000\n",
       "Casual;Brain Games                       4.469231\n",
       "Simulation;Action & Adventure            4.430000\n",
       "Adventure;Action & Adventure             4.423077\n",
       "Strategy;Creativity                      4.400000\n",
       "Card;Brain Games                         4.400000\n",
       "Entertainment;Education                  4.400000\n",
       "Puzzle;Creativity                        4.400000\n",
       "Role Playing;Action & Adventure          4.400000\n",
       "Art & Design;Creativity                  4.400000\n",
       "Word                                     4.388844\n",
       "Education;Pretend Play                   4.377778\n",
       "Education;Brain Games                    4.377524\n",
       "Puzzle;Brain Games                       4.372222\n",
       "Simulation;Education                     4.366667\n",
       "Events                                   4.361950\n",
       "Puzzle                                   4.358565\n",
       "Art & Design                             4.353021\n",
       "Education;Education                      4.350000\n",
       "                                           ...   \n",
       "Education;Music & Video                  4.150000\n",
       "Casual                                   4.149743\n",
       "Comics                                   4.145343\n",
       "News & Magazines                         4.139701\n",
       "Finance                                  4.134632\n",
       "Business                                 4.133856\n",
       "Role Playing;Pretend Play                4.125000\n",
       "Lifestyle                                4.107127\n",
       "Travel & Local                           4.106796\n",
       "Entertainment                            4.104568\n",
       "Casual;Music & Video                     4.100000\n",
       "Video Players & Editors;Creativity       4.100000\n",
       "Adventure;Education                      4.100000\n",
       "Travel & Local;Action & Adventure        4.100000\n",
       "Card                                     4.092976\n",
       "Trivia                                   4.078321\n",
       "Video Players & Editors                  4.074649\n",
       "Tools                                    4.065025\n",
       "Maps & Navigation                        4.064519\n",
       "Parenting;Education                      4.050069\n",
       "Board;Action & Adventure                 4.033333\n",
       "Dating                                   4.012459\n",
       "Lifestyle;Pretend Play                   4.000000\n",
       "Video Players & Editors;Music & Video    4.000000\n",
       "Entertainment;Pretend Play               4.000000\n",
       "Educational;Creativity                   3.960000\n",
       "Educational                              3.914543\n",
       "Art & Design;Pretend Play                3.900000\n",
       "Health & Fitness;Action & Adventure      3.900000\n",
       "Parenting;Brain Games                    3.800000\n",
       "Name: Rating, Length: 119, dtype: float64"
      ]
     },
     "execution_count": 53,
     "metadata": {},
     "output_type": "execute_result"
    }
   ],
   "source": [
    "#Genre: Here we used the mean instead of the sum.\n",
    "df.groupby('Genres')['Rating'].mean().sort_values(ascending=False)"
   ]
  },
  {
   "cell_type": "code",
   "execution_count": 55,
   "metadata": {},
   "outputs": [
    {
     "data": {
      "text/plain": [
       "<BarContainer object of 10357 artists>"
      ]
     },
     "execution_count": 55,
     "metadata": {},
     "output_type": "execute_result"
    },
    {
     "data": {
      "image/png": "[encoded data removed]",
      "text/plain": [
       "<Figure size 1440x360 with 1 Axes>"
      ]
     },
     "metadata": {
      "needs_background": "light"
     },
     "output_type": "display_data"
    }
   ],
   "source": [
    "#Type\n",
    "plt.subplots(figsize=(20,5))\n",
    "plt.bar(df['Type'],df.Rating)"
   ]
  },
  {
   "cell_type": "code",
   "execution_count": 56,
   "metadata": {},
   "outputs": [
    {
     "data": {
      "text/plain": [
       "<BarContainer object of 10357 artists>"
      ]
     },
     "execution_count": 56,
     "metadata": {},
     "output_type": "execute_result"
    },
    {
     "data": {
      "image/png": "[encoded data removed]",
      "text/plain": [
       "<Figure size 1440x360 with 1 Axes>"
      ]
     },
     "metadata": {
      "needs_background": "light"
     },
     "output_type": "display_data"
    }
   ],
   "source": [
    "#Price\n",
    "plt.subplots(figsize=(20,5))\n",
    "plt.bar(df.Price_labels,df.Rating)"
   ]
  },
  {
   "cell_type": "code",
   "execution_count": 57,
   "metadata": {},
   "outputs": [
    {
     "data": {
      "text/plain": [
       "<BarContainer object of 10357 artists>"
      ]
     },
     "execution_count": 57,
     "metadata": {},
     "output_type": "execute_result"
    },
    {
     "data": {
      "image/png": "[encoded data removed]",
      "text/plain": [
       "<Figure size 1440x360 with 1 Axes>"
      ]
     },
     "metadata": {
      "needs_background": "light"
     },
     "output_type": "display_data"
    }
   ],
   "source": [
    "#Reviews\n",
    "plt.subplots(figsize=(20,5))\n",
    "plt.bar(df.Reviews_labels,df.Rating)"
   ]
  },
  {
   "cell_type": "code",
   "execution_count": 58,
   "metadata": {},
   "outputs": [],
   "source": [
    "#Installs\n",
    "cut_labels = ['0-1000', '1000-10000', '10000-100000', '100000-1000000', '1000000+']\n",
    "cut_bins = [-1,1000,10000,100000,1000000,1000000000]\n",
    "df['Installs_labels'] = pd.cut(df['Installs'], bins=cut_bins, labels=cut_labels)"
   ]
  },
  {
   "cell_type": "code",
   "execution_count": 59,
   "metadata": {},
   "outputs": [
    {
     "data": {
      "text/plain": [
       "<BarContainer object of 10357 artists>"
      ]
     },
     "execution_count": 59,
     "metadata": {},
     "output_type": "execute_result"
    },
    {
     "data": {
      "image/png": "[encoded data removed]",
      "text/plain": [
       "<Figure size 1440x360 with 1 Axes>"
      ]
     },
     "metadata": {
      "needs_background": "light"
     },
     "output_type": "display_data"
    }
   ],
   "source": [
    "plt.subplots(figsize=(20,5))\n",
    "plt.bar(df.Installs_labels,df.Rating)"
   ]
  },
  {
   "cell_type": "markdown",
   "metadata": {},
   "source": [
    "Regression Model for Installs: "
   ]
  },
  {
   "cell_type": "code",
   "execution_count": 60,
   "metadata": {},
   "outputs": [
    {
     "data": {
      "text/plain": [
       "<matplotlib.axes._subplots.AxesSubplot at 0x1c11a5e04a8>"
      ]
     },
     "execution_count": 60,
     "metadata": {},
     "output_type": "execute_result"
    },
    {
     "data": {
      "image/png": "[encoded data removed]",
      "text/plain": [
       "<Figure size 432x288 with 1 Axes>"
      ]
     },
     "metadata": {
      "needs_background": "light"
     },
     "output_type": "display_data"
    }
   ],
   "source": [
    "#Rating\n",
    "import seaborn as sns\n",
    "\n",
    "sns.regplot(x=\"Rating\", y=\"Installs\", data=df)"
   ]
  },
  {
   "cell_type": "code",
   "execution_count": 61,
   "metadata": {},
   "outputs": [
    {
     "data": {
      "text/plain": [
       "<matplotlib.axes._subplots.AxesSubplot at 0x1c11a7705f8>"
      ]
     },
     "execution_count": 61,
     "metadata": {},
     "output_type": "execute_result"
    },
    {
     "data": {
      "image/png": "[encoded data removed]",
      "text/plain": [
       "<Figure size 432x288 with 1 Axes>"
      ]
     },
     "metadata": {
      "needs_background": "light"
     },
     "output_type": "display_data"
    }
   ],
   "source": [
    "#Reviews\n",
    "sns.regplot(x=\"Reviews\", y=\"Installs\", data=df)"
   ]
  },
  {
   "cell_type": "code",
   "execution_count": 62,
   "metadata": {},
   "outputs": [
    {
     "data": {
      "text/plain": [
       "<matplotlib.axes._subplots.AxesSubplot at 0x1c11a7989b0>"
      ]
     },
     "execution_count": 62,
     "metadata": {},
     "output_type": "execute_result"
    },
    {
     "data": {
      "image/png": "[encoded data removed]",
      "text/plain": [
       "<Figure size 432x288 with 1 Axes>"
      ]
     },
     "metadata": {
      "needs_background": "light"
     },
     "output_type": "display_data"
    }
   ],
   "source": [
    "#Size\n",
    "sns.regplot(x=\"Size_modified\", y=\"Installs\", data=df)"
   ]
  },
  {
   "cell_type": "code",
   "execution_count": 63,
   "metadata": {},
   "outputs": [
    {
     "data": {
      "text/plain": [
       "<matplotlib.axes._subplots.AxesSubplot at 0x1c11a7965c0>"
      ]
     },
     "execution_count": 63,
     "metadata": {},
     "output_type": "execute_result"
    },
    {
     "data": {
      "image/png": "[encoded data removed]",
      "text/plain": [
       "<Figure size 432x288 with 1 Axes>"
      ]
     },
     "metadata": {
      "needs_background": "light"
     },
     "output_type": "display_data"
    }
   ],
   "source": [
    "#Price\n",
    "sns.regplot(x=\"Price\", y=\"Installs\", data=df)"
   ]
  },
  {
   "cell_type": "code",
   "execution_count": 67,
   "metadata": {},
   "outputs": [
    {
     "name": "stdout",
     "output_type": "stream",
     "text": [
      "number of test samples : 3108\n",
      "number of training samples: 7249\n"
     ]
    },
    {
     "data": {
      "text/plain": [
       "0.0024027845114430457"
      ]
     },
     "execution_count": 67,
     "metadata": {},
     "output_type": "execute_result"
    }
   ],
   "source": [
    "from sklearn.linear_model import LinearRegression\n",
    "from sklearn.model_selection import train_test_split\n",
    "\n",
    "x_data = df[[\"Rating\"]]\n",
    "y_data = df['Installs']\n",
    "\n",
    "\n",
    "\n",
    "x_train, x_test, y_train, y_test = train_test_split(x_data, y_data, test_size=0.3, random_state=1)\n",
    "\n",
    "\n",
    "print(\"number of test samples :\", x_test.shape[0])\n",
    "print(\"number of training samples:\",x_train.shape[0])\n",
    "\n",
    "from sklearn.linear_model import LinearRegression\n",
    "lre=LinearRegression()\n",
    "lre.fit(x_train[['Rating']], y_train)\n",
    "lre.score(x_test[['Rating']], y_test)"
   ]
  },
  {
   "cell_type": "code",
   "execution_count": 68,
   "metadata": {},
   "outputs": [
    {
     "name": "stdout",
     "output_type": "stream",
     "text": [
      "number of test samples : 3108\n",
      "number of training samples: 7249\n"
     ]
    },
    {
     "data": {
      "text/plain": [
       "0.4442133464980597"
      ]
     },
     "execution_count": 68,
     "metadata": {},
     "output_type": "execute_result"
    }
   ],
   "source": [
    "from sklearn.linear_model import LinearRegression\n",
    "from sklearn.model_selection import train_test_split\n",
    "\n",
    "x_data = df[[\"Reviews\"]]\n",
    "y_data = df['Installs']\n",
    "\n",
    "\n",
    "\n",
    "x_train, x_test, y_train, y_test = train_test_split(x_data, y_data, test_size=0.3, random_state=1)\n",
    "\n",
    "\n",
    "print(\"number of test samples :\", x_test.shape[0])\n",
    "print(\"number of training samples:\",x_train.shape[0])\n",
    "\n",
    "from sklearn.linear_model import LinearRegression\n",
    "lre=LinearRegression()\n",
    "lre.fit(x_train[['Reviews']], y_train)\n",
    "lre.score(x_test[['Reviews']], y_test)"
   ]
  },
  {
   "cell_type": "code",
   "execution_count": 69,
   "metadata": {},
   "outputs": [
    {
     "name": "stdout",
     "output_type": "stream",
     "text": [
      "number of test samples : 3108\n",
      "number of training samples: 7249\n"
     ]
    },
    {
     "data": {
      "text/plain": [
       "0.005136795685048767"
      ]
     },
     "execution_count": 69,
     "metadata": {},
     "output_type": "execute_result"
    }
   ],
   "source": [
    "from sklearn.linear_model import LinearRegression\n",
    "from sklearn.model_selection import train_test_split\n",
    "\n",
    "x_data = df[[\"Size_modified\"]]\n",
    "y_data = df['Installs']\n",
    "\n",
    "\n",
    "\n",
    "x_train, x_test, y_train, y_test = train_test_split(x_data, y_data, test_size=0.3, random_state=1)\n",
    "\n",
    "\n",
    "print(\"number of test samples :\", x_test.shape[0])\n",
    "print(\"number of training samples:\",x_train.shape[0])\n",
    "\n",
    "from sklearn.linear_model import LinearRegression\n",
    "lre=LinearRegression()\n",
    "lre.fit(x_train[['Size_modified']], y_train)\n",
    "lre.score(x_test[['Size_modified']], y_test)"
   ]
  },
  {
   "cell_type": "code",
   "execution_count": 70,
   "metadata": {},
   "outputs": [
    {
     "name": "stdout",
     "output_type": "stream",
     "text": [
      "number of test samples : 3108\n",
      "number of training samples: 7249\n"
     ]
    },
    {
     "data": {
      "text/plain": [
       "-0.0010486704603300812"
      ]
     },
     "execution_count": 70,
     "metadata": {},
     "output_type": "execute_result"
    }
   ],
   "source": [
    "from sklearn.linear_model import LinearRegression\n",
    "from sklearn.model_selection import train_test_split\n",
    "\n",
    "x_data = df[[\"Price\"]]\n",
    "y_data = df['Installs']\n",
    "\n",
    "\n",
    "\n",
    "x_train, x_test, y_train, y_test = train_test_split(x_data, y_data, test_size=0.3, random_state=1)\n",
    "\n",
    "\n",
    "print(\"number of test samples :\", x_test.shape[0])\n",
    "print(\"number of training samples:\",x_train.shape[0])\n",
    "\n",
    "from sklearn.linear_model import LinearRegression\n",
    "lre=LinearRegression()\n",
    "lre.fit(x_train[['Price']], y_train)\n",
    "lre.score(x_test[['Price']], y_test)"
   ]
  },
  {
   "cell_type": "markdown",
   "metadata": {},
   "source": [
    "Regression Model for Rating: "
   ]
  },
  {
   "cell_type": "code",
   "execution_count": 71,
   "metadata": {},
   "outputs": [
    {
     "data": {
      "text/plain": [
       "<matplotlib.axes._subplots.AxesSubplot at 0x1c11a845048>"
      ]
     },
     "execution_count": 71,
     "metadata": {},
     "output_type": "execute_result"
    },
    {
     "data": {
      "image/png": "[encoded data removed]",
      "text/plain": [
       "<Figure size 432x288 with 1 Axes>"
      ]
     },
     "metadata": {
      "needs_background": "light"
     },
     "output_type": "display_data"
    }
   ],
   "source": [
    "#Installs\n",
    "import seaborn as sns\n",
    "\n",
    "sns.regplot(x=\"Installs\", y=\"Rating\", data=df)\n"
   ]
  },
  {
   "cell_type": "code",
   "execution_count": 72,
   "metadata": {},
   "outputs": [
    {
     "data": {
      "text/plain": [
       "<matplotlib.axes._subplots.AxesSubplot at 0x1c11adfd160>"
      ]
     },
     "execution_count": 72,
     "metadata": {},
     "output_type": "execute_result"
    },
    {
     "data": {
      "image/png": "[encoded data removed]",
      "text/plain": [
       "<Figure size 432x288 with 1 Axes>"
      ]
     },
     "metadata": {
      "needs_background": "light"
     },
     "output_type": "display_data"
    }
   ],
   "source": [
    "#Reviews\n",
    "sns.regplot(x=\"Reviews\", y=\"Rating\", data=df)"
   ]
  },
  {
   "cell_type": "code",
   "execution_count": 73,
   "metadata": {},
   "outputs": [
    {
     "data": {
      "text/plain": [
       "<matplotlib.axes._subplots.AxesSubplot at 0x1c11ae21e48>"
      ]
     },
     "execution_count": 73,
     "metadata": {},
     "output_type": "execute_result"
    },
    {
     "data": {
      "image/png": "[encoded data removed]",
      "text/plain": [
       "<Figure size 432x288 with 1 Axes>"
      ]
     },
     "metadata": {
      "needs_background": "light"
     },
     "output_type": "display_data"
    }
   ],
   "source": [
    "#Size\n",
    "sns.regplot(x=\"Size_modified\", y=\"Rating\", data=df)"
   ]
  },
  {
   "cell_type": "code",
   "execution_count": 74,
   "metadata": {},
   "outputs": [
    {
     "data": {
      "text/plain": [
       "<matplotlib.axes._subplots.AxesSubplot at 0x1c11ae575c0>"
      ]
     },
     "execution_count": 74,
     "metadata": {},
     "output_type": "execute_result"
    },
    {
     "data": {
      "image/png": "[encoded data removed]",
      "text/plain": [
       "<Figure size 432x288 with 1 Axes>"
      ]
     },
     "metadata": {
      "needs_background": "light"
     },
     "output_type": "display_data"
    }
   ],
   "source": [
    "#Price\n",
    "sns.regplot(x=\"Price\", y=\"Rating\", data=df)"
   ]
  },
  {
   "cell_type": "code",
   "execution_count": 75,
   "metadata": {},
   "outputs": [
    {
     "name": "stdout",
     "output_type": "stream",
     "text": [
      "number of test samples : 3108\n",
      "number of training samples: 7249\n"
     ]
    },
    {
     "data": {
      "text/plain": [
       "0.0033612988485561823"
      ]
     },
     "execution_count": 75,
     "metadata": {},
     "output_type": "execute_result"
    }
   ],
   "source": [
    "from sklearn.linear_model import LinearRegression\n",
    "from sklearn.model_selection import train_test_split\n",
    "\n",
    "x_data = df[[\"Installs\"]]\n",
    "y_data = df['Rating']\n",
    "\n",
    "\n",
    "\n",
    "x_train, x_test, y_train, y_test = train_test_split(x_data, y_data, test_size=0.3, random_state=1)\n",
    "\n",
    "\n",
    "print(\"number of test samples :\", x_test.shape[0])\n",
    "print(\"number of training samples:\",x_train.shape[0])\n",
    "\n",
    "from sklearn.linear_model import LinearRegression\n",
    "lre=LinearRegression()\n",
    "lre.fit(x_train[['Installs']], y_train)\n",
    "lre.score(x_test[['Installs']], y_test)"
   ]
  },
  {
   "cell_type": "code",
   "execution_count": 76,
   "metadata": {},
   "outputs": [
    {
     "name": "stdout",
     "output_type": "stream",
     "text": [
      "number of test samples : 3108\n",
      "number of training samples: 7249\n"
     ]
    },
    {
     "data": {
      "text/plain": [
       "0.0053539069708631315"
      ]
     },
     "execution_count": 76,
     "metadata": {},
     "output_type": "execute_result"
    }
   ],
   "source": [
    "from sklearn.linear_model import LinearRegression\n",
    "from sklearn.model_selection import train_test_split\n",
    "\n",
    "x_data = df[[\"Reviews\"]]\n",
    "y_data = df['Rating']\n",
    "\n",
    "\n",
    "\n",
    "x_train, x_test, y_train, y_test = train_test_split(x_data, y_data, test_size=0.3, random_state=1)\n",
    "\n",
    "\n",
    "print(\"number of test samples :\", x_test.shape[0])\n",
    "print(\"number of training samples:\",x_train.shape[0])\n",
    "\n",
    "from sklearn.linear_model import LinearRegression\n",
    "lre=LinearRegression()\n",
    "lre.fit(x_train[['Reviews']], y_train)\n",
    "lre.score(x_test[['Reviews']], y_test)"
   ]
  },
  {
   "cell_type": "code",
   "execution_count": 77,
   "metadata": {},
   "outputs": [
    {
     "name": "stdout",
     "output_type": "stream",
     "text": [
      "number of test samples : 3108\n",
      "number of training samples: 7249\n"
     ]
    },
    {
     "data": {
      "text/plain": [
       "0.0059192103828101805"
      ]
     },
     "execution_count": 77,
     "metadata": {},
     "output_type": "execute_result"
    }
   ],
   "source": [
    "from sklearn.linear_model import LinearRegression\n",
    "from sklearn.model_selection import train_test_split\n",
    "\n",
    "x_data = df[[\"Size_modified\"]]\n",
    "y_data = df['Rating']\n",
    "\n",
    "\n",
    "\n",
    "x_train, x_test, y_train, y_test = train_test_split(x_data, y_data, test_size=0.3, random_state=1)\n",
    "\n",
    "\n",
    "print(\"number of test samples :\", x_test.shape[0])\n",
    "print(\"number of training samples:\",x_train.shape[0])\n",
    "\n",
    "from sklearn.linear_model import LinearRegression\n",
    "lre=LinearRegression()\n",
    "lre.fit(x_train[['Size_modified']], y_train)\n",
    "lre.score(x_test[['Size_modified']], y_test)"
   ]
  },
  {
   "cell_type": "code",
   "execution_count": 78,
   "metadata": {},
   "outputs": [
    {
     "name": "stdout",
     "output_type": "stream",
     "text": [
      "number of test samples : 3108\n",
      "number of training samples: 7249\n"
     ]
    },
    {
     "data": {
      "text/plain": [
       "0.00021934513134447278"
      ]
     },
     "execution_count": 78,
     "metadata": {},
     "output_type": "execute_result"
    }
   ],
   "source": [
    "from sklearn.linear_model import LinearRegression\n",
    "from sklearn.model_selection import train_test_split\n",
    "\n",
    "x_data = df[[\"Price\"]]\n",
    "y_data = df['Rating']\n",
    "\n",
    "\n",
    "\n",
    "x_train, x_test, y_train, y_test = train_test_split(x_data, y_data, test_size=0.3, random_state=1)\n",
    "\n",
    "\n",
    "print(\"number of test samples :\", x_test.shape[0])\n",
    "print(\"number of training samples:\",x_train.shape[0])\n",
    "\n",
    "from sklearn.linear_model import LinearRegression\n",
    "lre=LinearRegression()\n",
    "lre.fit(x_train[['Price']], y_train)\n",
    "lre.score(x_test[['Price']], y_test)"
   ]
  },
  {
   "cell_type": "markdown",
   "metadata": {},
   "source": [
    "3-Final Analysis"
   ]
  },
  {
   "cell_type": "markdown",
   "metadata": {},
   "source": [
    "For an application's number of installs, the bar charts and the statistical methods showed the following patterns:\n",
    "1-Applications with higher rating are installed more.\n",
    "2-Applications with larger number of reviews are installed more.\n",
    "3-Applications with lower price are installed more.\n",
    "4-Free applications are installed more than paid applications.\n",
    "5-\"Communication\" applications are the most installed, while \"role playing/education\" applications are the least installed.\n",
    "6-Applications whose content rating is \"Everyone\" are the most installed, while those whose rating is \"Adults only 18+\" or \"Unrated\" are the least installed. "
   ]
  },
  {
   "cell_type": "markdown",
   "metadata": {},
   "source": [
    "For an application's number of installs, the regression model showed the following patterns:\n",
    "1-Rating, Reviews and Size all have a positive correlation with the number of Installs, with the number of Reviews being the most effective attribute.\n",
    "2-Price has a negative correlation with the number of installs. "
   ]
  },
  {
   "cell_type": "markdown",
   "metadata": {},
   "source": [
    "For an application's rating, the bar charts and the statistical methods showed the following patterns:\n",
    "1-Applications with content rating \"Everyone\", \"10+\", \"Teen\" and \"Mature 17+\" have similar ratings, which are higher than applications whose rating is \"Adults only 18+\" and finally \"Unrated\" applications have the lowest ratings. \n",
    "2-\"Comics/Creativity\" applications have the highest ratings, while \"Brain Games/Parenting\" applications have the lowest ratings.\n",
    "3-\"Free\" and \"Paid\" applications have similar ratings.\n",
    "4-Number of Reviews and Number of Installs don't have a remarkable impact on an application's rating.\n",
    "5-Applications with price range \"0-100\" dollars have higher ratings compared to applications of other price ranges, but with no pattern detected among the different price ranges. "
   ]
  },
  {
   "cell_type": "markdown",
   "metadata": {},
   "source": [
    "For an application's rating, the regression model showed the following patterns:\n",
    "None of the \"price\", \"size\", \"number of reviews\" and \"number of installs\" has a remarkable impact on the \"rating\", with all of them showing positive correlation. "
   ]
  },
  {
   "cell_type": "markdown",
   "metadata": {},
   "source": [
    "4-Strengths and Short-comings: "
   ]
  },
  {
   "cell_type": "markdown",
   "metadata": {},
   "source": [
    "-Strengths: Most of the provided attributes were used in the analysis process, therefore clear patterns were detected. \n",
    "-Short-Comings: The average value for an application's size and rating was used for applications whose size or rating was not provided. However, given more time to collect the data, those values could have been obtained for more accurate results. "
   ]
  },
  {
   "cell_type": "markdown",
   "metadata": {},
   "source": [
    "**The second dataset containing reviews and sentiment analysis of applications was not included in the scope of this analysis, however some data cleaning techniques were applied on it for later use. "
   ]
  },
  {
   "cell_type": "code",
   "execution_count": 80,
   "metadata": {},
   "outputs": [],
   "source": [
    "#Importing the dataset \n",
    "df2 = pd.read_csv(\"E:/Semester9/DE/googleplaystore_user_reviews.csv\") "
   ]
  },
  {
   "cell_type": "code",
   "execution_count": 81,
   "metadata": {},
   "outputs": [],
   "source": [
    "#Dropping duplicates\n",
    "df2.drop_duplicates(subset=None, keep='first', inplace=True)\n"
   ]
  },
  {
   "cell_type": "code",
   "execution_count": 82,
   "metadata": {},
   "outputs": [],
   "source": [
    "#Dropping entries where the sentiment is not available\n",
    "df2 = df2.dropna(axis=0, subset=['Sentiment'])"
   ]
  },
  {
   "cell_type": "code",
   "execution_count": 84,
   "metadata": {},
   "outputs": [
    {
     "data": {
      "text/plain": [
       "App                       0\n",
       "Translated_Review         5\n",
       "Sentiment                 0\n",
       "Sentiment_Polarity        0\n",
       "Sentiment_Subjectivity    0\n",
       "dtype: int64"
      ]
     },
     "execution_count": 84,
     "metadata": {},
     "output_type": "execute_result"
    }
   ],
   "source": [
    "#Checking for null values\n",
    "df2.isnull().sum()"
   ]
  },
  {
   "cell_type": "code",
   "execution_count": 85,
   "metadata": {},
   "outputs": [],
   "source": [
    "#Making a copy of the dataframe \n",
    "df3 = df2"
   ]
  },
  {
   "cell_type": "code",
   "execution_count": 86,
   "metadata": {},
   "outputs": [],
   "source": [
    "#Assigning the average value of the sentiment polarity to each application\n",
    "df3['Sentiment_Polarity'] = df3.groupby('App')['Sentiment_Polarity'].transform('mean')"
   ]
  },
  {
   "cell_type": "code",
   "execution_count": 87,
   "metadata": {},
   "outputs": [],
   "source": [
    "#Assigning the average value of the sentiment subjectivity to each application\n",
    "df3['Sentiment_Subjectivity'] = df3.groupby('App')['Sentiment_Subjectivity'].transform('mean')"
   ]
  },
  {
   "cell_type": "code",
   "execution_count": 88,
   "metadata": {},
   "outputs": [],
   "source": [
    "#Deciding the sentiment of each application based on its average sentiment polarity\n",
    "df3.loc[df3.Sentiment_Polarity < 0, 'S' ] = 'Negative'"
   ]
  },
  {
   "cell_type": "code",
   "execution_count": 89,
   "metadata": {},
   "outputs": [],
   "source": [
    "df3.loc[df3.Sentiment_Polarity > 0, 'S' ] = 'Positive'"
   ]
  },
  {
   "cell_type": "code",
   "execution_count": 90,
   "metadata": {},
   "outputs": [],
   "source": [
    "df3.loc[df3.Sentiment_Polarity == 0, 'S' ] = 'Neutral'"
   ]
  },
  {
   "cell_type": "code",
   "execution_count": 92,
   "metadata": {},
   "outputs": [],
   "source": [
    "#Replacing the old sentiment with the new sentiment\n",
    "df3.drop(columns=['Sentiment'], inplace=True)"
   ]
  },
  {
   "cell_type": "code",
   "execution_count": 94,
   "metadata": {},
   "outputs": [],
   "source": [
    "df3.rename(columns={'S':'Sentiment'}, inplace=True)"
   ]
  },
  {
   "cell_type": "code",
   "execution_count": 95,
   "metadata": {},
   "outputs": [],
   "source": [
    "#Exporting the dataset \n",
    "df3.to_csv (\"E:/Semester9/DE/reviews_modified.csv\", index = None, header=True)"
   ]
  },
  {
   "cell_type": "code",
   "execution_count": null,
   "metadata": {},
   "outputs": [],
   "source": []
  }
 ],
 "metadata": {
  "kernelspec": {
   "display_name": "Python 3",
   "language": "python",
   "name": "python3"
  },
  "language_info": {
   "codemirror_mode": {
    "name": "ipython",
    "version": 3
   },
   "file_extension": ".py",
   "mimetype": "text/x-python",
   "name": "python",
   "nbconvert_exporter": "python",
   "pygments_lexer": "ipython3",
   "version": "3.7.3"
  }
 },
 "nbformat": 4,
 "nbformat_minor": 2
}
